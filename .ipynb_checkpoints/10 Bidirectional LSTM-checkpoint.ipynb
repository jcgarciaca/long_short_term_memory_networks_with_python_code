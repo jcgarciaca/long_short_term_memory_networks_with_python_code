{
 "cells": [
  {
   "cell_type": "code",
   "execution_count": 2,
   "metadata": {},
   "outputs": [],
   "source": [
    "import numpy as np\n",
    "from random import random"
   ]
  },
  {
   "cell_type": "code",
   "execution_count": 3,
   "metadata": {},
   "outputs": [
    {
     "data": {
      "text/plain": [
       "array([0.7097559 , 0.00308615, 0.55830373, 0.07668281, 0.87058981,\n",
       "       0.47430057, 0.26839034, 0.42198325, 0.35297548, 0.39698273])"
      ]
     },
     "execution_count": 3,
     "metadata": {},
     "output_type": "execute_result"
    }
   ],
   "source": [
    "X = np.array([random() for _ in range(10)])\n",
    "X"
   ]
  },
  {
   "cell_type": "code",
   "execution_count": 4,
   "metadata": {},
   "outputs": [
    {
     "data": {
      "text/plain": [
       "2.5"
      ]
     },
     "execution_count": 4,
     "metadata": {},
     "output_type": "execute_result"
    }
   ],
   "source": [
    "limit = 10 / 4.0\n",
    "limit"
   ]
  },
  {
   "cell_type": "code",
   "execution_count": 5,
   "metadata": {},
   "outputs": [
    {
     "data": {
      "text/plain": [
       "array([0, 0, 0, 0, 0, 1, 1, 1, 1, 1])"
      ]
     },
     "execution_count": 5,
     "metadata": {},
     "output_type": "execute_result"
    }
   ],
   "source": [
    "y = np.array([0 if x < limit else 1 for x in np.cumsum(X)])\n",
    "y"
   ]
  },
  {
   "cell_type": "code",
   "execution_count": 6,
   "metadata": {},
   "outputs": [],
   "source": [
    "def get_sequence(n_timesteps):\n",
    "    X = np.array([random() for _ in range(n_timesteps)])\n",
    "    limit = n_timesteps / 4.0\n",
    "    y = np.array([0 if x < limit else 1 for x in np.cumsum(X)])\n",
    "    return X, y"
   ]
  },
  {
   "cell_type": "code",
   "execution_count": 7,
   "metadata": {},
   "outputs": [
    {
     "name": "stdout",
     "output_type": "stream",
     "text": [
      "[0.31836304 0.37250585 0.93589965 0.74111443 0.22094353 0.73727752\n",
      " 0.03295154 0.47796006 0.36799478 0.79265923]\n",
      "[0 0 0 0 1 1 1 1 1 1]\n"
     ]
    }
   ],
   "source": [
    "X, y = get_sequence(10)\n",
    "print(X)\n",
    "print(y)"
   ]
  },
  {
   "cell_type": "code",
   "execution_count": 22,
   "metadata": {},
   "outputs": [],
   "source": [
    "def get_sequences(n_sequences, n_timesteps):\n",
    "    seqX, seqY = list(), list()\n",
    "    for _ in range(n_sequences):\n",
    "        X, y = get_sequence(n_timesteps)\n",
    "        seqX.append(X)\n",
    "        seqY.append(y)\n",
    "    seqX = np.array(seqX).reshape(n_sequences, n_timesteps, 1)\n",
    "    seqY = np.array(seqY).reshape(n_sequences, n_timesteps, 1)\n",
    "    return seqX, seqY"
   ]
  },
  {
   "cell_type": "markdown",
   "metadata": {},
   "source": [
    "## Model"
   ]
  },
  {
   "cell_type": "code",
   "execution_count": 18,
   "metadata": {},
   "outputs": [],
   "source": [
    "n_timesteps = 10"
   ]
  },
  {
   "cell_type": "code",
   "execution_count": 19,
   "metadata": {},
   "outputs": [
    {
     "name": "stderr",
     "output_type": "stream",
     "text": [
      "Using TensorFlow backend.\n"
     ]
    }
   ],
   "source": [
    "from keras.models import Sequential\n",
    "from keras.layers import Bidirectional, LSTM, TimeDistributed, Dense"
   ]
  },
  {
   "cell_type": "code",
   "execution_count": 20,
   "metadata": {},
   "outputs": [
    {
     "name": "stdout",
     "output_type": "stream",
     "text": [
      "Model: \"sequential_1\"\n",
      "_________________________________________________________________\n",
      "Layer (type)                 Output Shape              Param #   \n",
      "=================================================================\n",
      "bidirectional_1 (Bidirection (None, 10, 100)           20800     \n",
      "_________________________________________________________________\n",
      "time_distributed_1 (TimeDist (None, 10, 1)             101       \n",
      "=================================================================\n",
      "Total params: 20,901\n",
      "Trainable params: 20,901\n",
      "Non-trainable params: 0\n",
      "_________________________________________________________________\n"
     ]
    }
   ],
   "source": [
    "model = Sequential()\n",
    "model.add(Bidirectional(LSTM(50, return_sequences = True), input_shape = (n_timesteps, 1)))\n",
    "model.add(TimeDistributed(Dense(1, activation = 'sigmoid')))\n",
    "model.compile(loss = 'binary_crossentropy', optimizer = 'adam', metrics = ['accuracy'])\n",
    "model.summary()"
   ]
  },
  {
   "cell_type": "markdown",
   "metadata": {},
   "source": [
    "## Fit model"
   ]
  },
  {
   "cell_type": "code",
   "execution_count": 23,
   "metadata": {},
   "outputs": [
    {
     "name": "stdout",
     "output_type": "stream",
     "text": [
      "Epoch 1/1\n",
      "50000/50000 [==============================] - 63s 1ms/step - loss: 0.0535 - accuracy: 0.9800\n"
     ]
    },
    {
     "data": {
      "text/plain": [
       "<keras.callbacks.callbacks.History at 0x7f2de032f6a0>"
      ]
     },
     "execution_count": 23,
     "metadata": {},
     "output_type": "execute_result"
    }
   ],
   "source": [
    "X, y = get_sequences(50000, n_timesteps)\n",
    "model.fit(X, y, epochs = 1, batch_size = 10)"
   ]
  },
  {
   "cell_type": "markdown",
   "metadata": {},
   "source": [
    "## Evaluate model"
   ]
  },
  {
   "cell_type": "code",
   "execution_count": 24,
   "metadata": {},
   "outputs": [],
   "source": [
    "X, y = get_sequences(100, n_timesteps)\n",
    "loss, acc = model.evaluate(X, y, verbose = 0)"
   ]
  },
  {
   "cell_type": "code",
   "execution_count": 25,
   "metadata": {},
   "outputs": [
    {
     "name": "stdout",
     "output_type": "stream",
     "text": [
      "loss 0.02170977532863617, acc: 0.9980000257492065\n"
     ]
    }
   ],
   "source": [
    "print('loss {}, acc: {}'.format(loss, acc))"
   ]
  },
  {
   "cell_type": "markdown",
   "metadata": {},
   "source": [
    "# Prediction"
   ]
  },
  {
   "cell_type": "code",
   "execution_count": 27,
   "metadata": {},
   "outputs": [
    {
     "name": "stdout",
     "output_type": "stream",
     "text": [
      "X [[[0.51598243]\n",
      "  [0.46205007]\n",
      "  [0.05359127]\n",
      "  [0.86885193]\n",
      "  [0.63984352]\n",
      "  [0.51147219]\n",
      "  [0.28733639]\n",
      "  [0.09413684]\n",
      "  [0.37116764]\n",
      "  [0.57377836]]]\n",
      "yhat [[[5.8430465e-09]\n",
      "  [2.4988541e-08]\n",
      "  [1.0657314e-08]\n",
      "  [1.3106891e-04]\n",
      "  [7.0468533e-01]\n",
      "  [9.9996793e-01]\n",
      "  [9.9999893e-01]\n",
      "  [9.9999976e-01]\n",
      "  [1.0000000e+00]\n",
      "  [1.0000000e+00]]]\n",
      "y [[[0]\n",
      "  [0]\n",
      "  [0]\n",
      "  [0]\n",
      "  [1]\n",
      "  [1]\n",
      "  [1]\n",
      "  [1]\n",
      "  [1]\n",
      "  [1]]]\n"
     ]
    }
   ],
   "source": [
    "X, y = get_sequences(1, n_timesteps)\n",
    "yhat = model.predict(X, verbose = 0)\n",
    "print('X', X)\n",
    "print('yhat', yhat)\n",
    "print('y', y)"
   ]
  },
  {
   "cell_type": "code",
   "execution_count": 32,
   "metadata": {},
   "outputs": [
    {
     "name": "stdout",
     "output_type": "stream",
     "text": [
      "exp: [0 0 0 0 0 0 1 1 1 1], pred: [0. 0. 0. 0. 0. 0. 1. 1. 1. 1.], np.array_equal(exp, pred): True\n",
      "exp: [0 0 0 0 1 1 1 1 1 1], pred: [0. 0. 0. 0. 1. 1. 1. 1. 1. 1.], np.array_equal(exp, pred): True\n",
      "exp: [0 0 0 0 0 0 1 1 1 1], pred: [0. 0. 0. 0. 0. 0. 1. 1. 1. 1.], np.array_equal(exp, pred): True\n",
      "exp: [0 0 0 0 0 0 1 1 1 1], pred: [0. 0. 0. 0. 0. 1. 1. 1. 1. 1.], np.array_equal(exp, pred): False\n",
      "exp: [0 0 0 0 1 1 1 1 1 1], pred: [0. 0. 0. 0. 1. 1. 1. 1. 1. 1.], np.array_equal(exp, pred): True\n",
      "exp: [0 0 0 0 1 1 1 1 1 1], pred: [0. 0. 0. 0. 1. 1. 1. 1. 1. 1.], np.array_equal(exp, pred): True\n",
      "exp: [0 0 0 0 1 1 1 1 1 1], pred: [0. 0. 0. 0. 1. 1. 1. 1. 1. 1.], np.array_equal(exp, pred): True\n",
      "exp: [0 0 0 0 0 0 0 1 1 1], pred: [0. 0. 0. 0. 0. 0. 0. 1. 1. 1.], np.array_equal(exp, pred): True\n",
      "exp: [0 0 0 0 0 1 1 1 1 1], pred: [0. 0. 0. 0. 0. 1. 1. 1. 1. 1.], np.array_equal(exp, pred): True\n",
      "exp: [0 0 0 0 0 0 1 1 1 1], pred: [0. 0. 0. 0. 0. 0. 1. 1. 1. 1.], np.array_equal(exp, pred): True\n",
      "exp: [0 0 0 1 1 1 1 1 1 1], pred: [0. 0. 0. 1. 1. 1. 1. 1. 1. 1.], np.array_equal(exp, pred): True\n",
      "exp: [0 0 0 0 0 1 1 1 1 1], pred: [0. 0. 0. 0. 0. 1. 1. 1. 1. 1.], np.array_equal(exp, pred): True\n",
      "exp: [0 0 0 0 0 0 1 1 1 1], pred: [0. 0. 0. 0. 0. 0. 1. 1. 1. 1.], np.array_equal(exp, pred): True\n",
      "exp: [0 0 0 0 1 1 1 1 1 1], pred: [0. 0. 0. 0. 1. 1. 1. 1. 1. 1.], np.array_equal(exp, pred): True\n",
      "exp: [0 0 0 0 0 1 1 1 1 1], pred: [0. 0. 0. 0. 1. 1. 1. 1. 1. 1.], np.array_equal(exp, pred): False\n",
      "exp: [0 0 0 0 1 1 1 1 1 1], pred: [0. 0. 0. 0. 1. 1. 1. 1. 1. 1.], np.array_equal(exp, pred): True\n",
      "exp: [0 0 0 0 0 1 1 1 1 1], pred: [0. 0. 0. 0. 0. 1. 1. 1. 1. 1.], np.array_equal(exp, pred): True\n",
      "exp: [0 0 0 1 1 1 1 1 1 1], pred: [0. 0. 0. 1. 1. 1. 1. 1. 1. 1.], np.array_equal(exp, pred): True\n",
      "exp: [0 0 0 0 0 1 1 1 1 1], pred: [0. 0. 0. 0. 0. 1. 1. 1. 1. 1.], np.array_equal(exp, pred): True\n",
      "exp: [0 0 0 1 1 1 1 1 1 1], pred: [0. 0. 0. 1. 1. 1. 1. 1. 1. 1.], np.array_equal(exp, pred): True\n"
     ]
    }
   ],
   "source": [
    "for _ in range(20):\n",
    "    X, y = get_sequences(1, n_timesteps)\n",
    "    yhat = np.round(model.predict(X, verbose = 0))\n",
    "    exp, pred = y.reshape(n_timesteps), yhat.reshape(n_timesteps)\n",
    "    print('exp: {}, pred: {}, np.array_equal(exp, pred): {}'.format(exp, pred, np.array_equal(exp, pred)))"
   ]
  },
  {
   "cell_type": "code",
   "execution_count": null,
   "metadata": {},
   "outputs": [],
   "source": []
  }
 ],
 "metadata": {
  "kernelspec": {
   "display_name": "Python 3",
   "language": "python",
   "name": "python3"
  },
  "language_info": {
   "codemirror_mode": {
    "name": "ipython",
    "version": 3
   },
   "file_extension": ".py",
   "mimetype": "text/x-python",
   "name": "python",
   "nbconvert_exporter": "python",
   "pygments_lexer": "ipython3",
   "version": "3.5.2"
  }
 },
 "nbformat": 4,
 "nbformat_minor": 2
}
