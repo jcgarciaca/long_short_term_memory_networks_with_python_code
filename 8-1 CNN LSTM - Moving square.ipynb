{
 "cells": [
  {
   "cell_type": "code",
   "execution_count": 1,
   "metadata": {},
   "outputs": [],
   "source": [
    "import numpy as np\n",
    "from random import randint, random\n",
    "import matplotlib.pyplot as plt"
   ]
  },
  {
   "cell_type": "code",
   "execution_count": 2,
   "metadata": {},
   "outputs": [],
   "source": [
    "def next_frame(last_step, last_frame, column):\n",
    "    lower = max(0, last_step - 1)\n",
    "    upper = min(last_frame.shape[0] - 1, last_step + 1)\n",
    "    step = randint(lower, upper)\n",
    "    frame = last_frame.copy()\n",
    "    frame[step, column] = 1\n",
    "    return frame, step"
   ]
  },
  {
   "cell_type": "code",
   "execution_count": 3,
   "metadata": {},
   "outputs": [],
   "source": [
    "def build_frames(size):\n",
    "    frames = list()\n",
    "    frame = np.zeros((size, size))\n",
    "    step = randint(0, size - 1)\n",
    "    right = 1 if random() < 0.5 else 0\n",
    "    col = 0 if right else size - 1\n",
    "    frame[step, col] = 1\n",
    "    frames.append(frame)\n",
    "    for i in range(1, size):\n",
    "        col = i if right else size - 1 - i\n",
    "        frame, step = next_frame(step, frame, col)\n",
    "        frames.append(frame)\n",
    "    return frames, right"
   ]
  },
  {
   "cell_type": "code",
   "execution_count": 4,
   "metadata": {},
   "outputs": [
    {
     "data": {
      "image/png": "[encoded data removed]",
      "text/plain": [
       "<Figure size 432x288 with 5 Axes>"
      ]
     },
     "metadata": {
      "needs_background": "light"
     },
     "output_type": "display_data"
    }
   ],
   "source": [
    "size = 5\n",
    "frames, right = build_frames(size)\n",
    "plt.figure()\n",
    "for i in range(size):\n",
    "    plt.subplot(1, size, i + 1)\n",
    "    plt.imshow(frames[i], cmap = 'Greys')\n",
    "    ax = plt.gca()\n",
    "    ax.get_xaxis().set_visible(False)\n",
    "    ax.get_yaxis().set_visible(False)\n",
    "plt.show()"
   ]
  },
  {
   "cell_type": "code",
   "execution_count": 10,
   "metadata": {},
   "outputs": [],
   "source": [
    "def generate_examples(size, n_patterns):\n",
    "    X, y = list(), list()\n",
    "    for _ in range(n_patterns):\n",
    "        frames, right = build_frames(size)\n",
    "        X.append(frames)\n",
    "        y.append(right)\n",
    "    X = np.array(X).reshape(n_patterns, size, size, size, 1)\n",
    "    y = np.array(y).reshape(n_patterns, 1)\n",
    "    return X, y"
   ]
  },
  {
   "cell_type": "code",
   "execution_count": 13,
   "metadata": {},
   "outputs": [],
   "source": [
    "size = 20"
   ]
  },
  {
   "cell_type": "markdown",
   "metadata": {},
   "source": [
    "## Model"
   ]
  },
  {
   "cell_type": "code",
   "execution_count": 7,
   "metadata": {},
   "outputs": [
    {
     "name": "stderr",
     "output_type": "stream",
     "text": [
      "Using TensorFlow backend.\n"
     ]
    }
   ],
   "source": [
    "from keras.models import Sequential\n",
    "from keras.layers import Conv2D, MaxPooling2D, LSTM, Dense, Flatten, TimeDistributed"
   ]
  },
  {
   "cell_type": "code",
   "execution_count": 15,
   "metadata": {},
   "outputs": [
    {
     "name": "stdout",
     "output_type": "stream",
     "text": [
      "Model: \"sequential_2\"\n",
      "_________________________________________________________________\n",
      "Layer (type)                 Output Shape              Param #   \n",
      "=================================================================\n",
      "time_distributed_4 (TimeDist (None, None, 19, 19, 2)   10        \n",
      "_________________________________________________________________\n",
      "time_distributed_5 (TimeDist (None, None, 9, 9, 2)     0         \n",
      "_________________________________________________________________\n",
      "time_distributed_6 (TimeDist (None, None, 162)         0         \n",
      "_________________________________________________________________\n",
      "lstm_2 (LSTM)                (None, 50)                42600     \n",
      "_________________________________________________________________\n",
      "dense_2 (Dense)              (None, 1)                 51        \n",
      "=================================================================\n",
      "Total params: 42,661\n",
      "Trainable params: 42,661\n",
      "Non-trainable params: 0\n",
      "_________________________________________________________________\n"
     ]
    }
   ],
   "source": [
    "model = Sequential()\n",
    "model.add(TimeDistributed(Conv2D(2, (2, 2), activation = 'relu'), input_shape = (None, size, size, 1)))\n",
    "model.add(TimeDistributed(MaxPooling2D(pool_size = (2, 2))))\n",
    "model.add(TimeDistributed(Flatten()))\n",
    "model.add(LSTM(50))\n",
    "model.add(Dense(1, activation = 'sigmoid'))\n",
    "model.compile(loss = 'binary_crossentropy', optimizer = 'adam', metrics = ['acc'])\n",
    "model.summary()"
   ]
  },
  {
   "cell_type": "code",
   "execution_count": 16,
   "metadata": {},
   "outputs": [
    {
     "name": "stdout",
     "output_type": "stream",
     "text": [
      "Epoch 1/1\n",
      "5000/5000 [==============================] - 8s 2ms/step - loss: 0.1054 - acc: 0.9598\n"
     ]
    },
    {
     "data": {
      "text/plain": [
       "<keras.callbacks.callbacks.History at 0x7f24bcf2f470>"
      ]
     },
     "execution_count": 16,
     "metadata": {},
     "output_type": "execute_result"
    }
   ],
   "source": [
    "X, y = generate_examples(size, 5000)\n",
    "model.fit(X, y, batch_size = 32, epochs = 1)"
   ]
  },
  {
   "cell_type": "code",
   "execution_count": 17,
   "metadata": {},
   "outputs": [
    {
     "name": "stdout",
     "output_type": "stream",
     "text": [
      "loss: 0.0591906027123332, acc: 99.00000095367432\n"
     ]
    }
   ],
   "source": [
    "X, y = generate_examples(size, 100)\n",
    "loss, acc = model.evaluate(X, y, verbose = 0)\n",
    "print('loss: {}, acc: {}'.format(loss, acc * 100))"
   ]
  },
  {
   "cell_type": "code",
   "execution_count": 36,
   "metadata": {},
   "outputs": [
    {
     "name": "stdout",
     "output_type": "stream",
     "text": [
      "Expected: Right, Predicted: Right\n",
      "Expected: Right, Predicted: Right\n",
      "Expected: Left, Predicted: Left\n",
      "Expected: Right, Predicted: Right\n",
      "Expected: Left, Predicted: Left\n",
      "Expected: Left, Predicted: Left\n",
      "Expected: Right, Predicted: Right\n",
      "Expected: Right, Predicted: Right\n",
      "Expected: Left, Predicted: Left\n",
      "Expected: Left, Predicted: Left\n",
      "Expected: Left, Predicted: Left\n",
      "Expected: Left, Predicted: Left\n",
      "Expected: Left, Predicted: Left\n",
      "Expected: Right, Predicted: Right\n",
      "Expected: Right, Predicted: Right\n",
      "Expected: Left, Predicted: Left\n",
      "Expected: Right, Predicted: Right\n",
      "Expected: Left, Predicted: Left\n",
      "Expected: Left, Predicted: Left\n",
      "Expected: Left, Predicted: Left\n",
      "Expected: Right, Predicted: Right\n",
      "Expected: Right, Predicted: Right\n",
      "Expected: Right, Predicted: Right\n",
      "Expected: Right, Predicted: Right\n",
      "Expected: Right, Predicted: Right\n",
      "Expected: Right, Predicted: Right\n",
      "Expected: Right, Predicted: Right\n",
      "Expected: Left, Predicted: Left\n",
      "Expected: Right, Predicted: Right\n",
      "Expected: Right, Predicted: Right\n",
      "Expected: Right, Predicted: Right\n",
      "Expected: Right, Predicted: Right\n",
      "Expected: Right, Predicted: Right\n",
      "Expected: Right, Predicted: Left\n",
      "Expected: Right, Predicted: Right\n",
      "Expected: Left, Predicted: Left\n",
      "Expected: Left, Predicted: Left\n",
      "Expected: Left, Predicted: Left\n",
      "Expected: Right, Predicted: Right\n",
      "Expected: Left, Predicted: Left\n",
      "Expected: Left, Predicted: Left\n",
      "Expected: Left, Predicted: Left\n",
      "Expected: Right, Predicted: Right\n",
      "Expected: Right, Predicted: Right\n",
      "Expected: Left, Predicted: Left\n",
      "Expected: Left, Predicted: Left\n",
      "Expected: Left, Predicted: Left\n",
      "Expected: Left, Predicted: Left\n",
      "Expected: Right, Predicted: Right\n",
      "Expected: Right, Predicted: Right\n",
      "Expected: Left, Predicted: Left\n",
      "Expected: Left, Predicted: Left\n",
      "Expected: Left, Predicted: Left\n",
      "Expected: Right, Predicted: Right\n",
      "Expected: Right, Predicted: Right\n",
      "Expected: Right, Predicted: Right\n",
      "Expected: Left, Predicted: Left\n",
      "Expected: Left, Predicted: Left\n",
      "Expected: Left, Predicted: Left\n",
      "Expected: Left, Predicted: Left\n",
      "Expected: Right, Predicted: Right\n",
      "Expected: Right, Predicted: Right\n",
      "Expected: Right, Predicted: Right\n",
      "Expected: Left, Predicted: Left\n",
      "Expected: Left, Predicted: Left\n",
      "Expected: Left, Predicted: Left\n",
      "Expected: Right, Predicted: Right\n",
      "Expected: Left, Predicted: Left\n",
      "Expected: Right, Predicted: Right\n",
      "Expected: Right, Predicted: Right\n",
      "Expected: Left, Predicted: Left\n",
      "Expected: Left, Predicted: Left\n",
      "Expected: Left, Predicted: Left\n",
      "Expected: Left, Predicted: Left\n",
      "Expected: Left, Predicted: Left\n",
      "Expected: Right, Predicted: Right\n",
      "Expected: Left, Predicted: Left\n",
      "Expected: Left, Predicted: Left\n",
      "Expected: Left, Predicted: Left\n",
      "Expected: Left, Predicted: Left\n",
      "Expected: Right, Predicted: Right\n",
      "Expected: Left, Predicted: Left\n",
      "Expected: Left, Predicted: Left\n",
      "Expected: Right, Predicted: Right\n",
      "Expected: Left, Predicted: Left\n",
      "Expected: Right, Predicted: Right\n",
      "Expected: Right, Predicted: Right\n",
      "Expected: Left, Predicted: Left\n",
      "Expected: Left, Predicted: Left\n",
      "Expected: Right, Predicted: Right\n",
      "Expected: Right, Predicted: Right\n",
      "Expected: Left, Predicted: Left\n",
      "Expected: Left, Predicted: Left\n",
      "Expected: Left, Predicted: Left\n",
      "Expected: Right, Predicted: Right\n",
      "Expected: Right, Predicted: Right\n",
      "Expected: Left, Predicted: Left\n",
      "Expected: Left, Predicted: Left\n",
      "Expected: Left, Predicted: Left\n",
      "Expected: Right, Predicted: Right\n",
      "Good: 99\n"
     ]
    }
   ],
   "source": [
    "good = 0\n",
    "for _ in range(100):\n",
    "    X, y = generate_examples(size, 1)\n",
    "    yhat = model.predict_classes(X)\n",
    "    expected = 'Right' if y[0] == 1 else 'Left'\n",
    "    predicted = 'Right' if yhat[0] == 1 else 'Left'\n",
    "    if expected == predicted:\n",
    "        good += 1\n",
    "    print('Expected: {}, Predicted: {}'.format(expected, predicted))\n",
    "print('Good: {}'.format(good))"
   ]
  },
  {
   "cell_type": "code",
   "execution_count": null,
   "metadata": {},
   "outputs": [],
   "source": []
  }
 ],
 "metadata": {
  "kernelspec": {
   "display_name": "Python 3",
   "language": "python",
   "name": "python3"
  },
  "language_info": {
   "codemirror_mode": {
    "name": "ipython",
    "version": 3
   },
   "file_extension": ".py",
   "mimetype": "text/x-python",
   "name": "python",
   "nbconvert_exporter": "python",
   "pygments_lexer": "ipython3",
   "version": "3.5.2"
  }
 },
 "nbformat": 4,
 "nbformat_minor": 2
}
